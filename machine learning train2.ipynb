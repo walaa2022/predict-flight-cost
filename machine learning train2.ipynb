{
 "cells": [
  {
   "cell_type": "code",
   "execution_count": null,
   "id": "84da6501",
   "metadata": {},
   "outputs": [],
   "source": [
    "df1=df.copy()"
   ]
  },
  {
   "cell_type": "code",
   "execution_count": 2,
   "id": "c06f8c95",
   "metadata": {},
   "outputs": [],
   "source": [
    "import pandas as pd\n",
    "import numpy as np\n",
    "from sklearn.compose import ColumnTransformer\n",
    "from sklearn.pipeline import Pipeline\n",
    "from sklearn.model_selection import cross_validate\n",
    "from sklearn.preprocessing import OneHotEncoder , RobustScaler\n",
    "from category_encoders import BinaryEncoder\n",
    "from sklearn.linear_model import LogisticRegression\n",
    "from sklearn.model_selection import train_test_split\n",
    "\n",
    "from sklearn.metrics import make_scorer, r2_score, mean_squared_error"
   ]
  },
  {
   "cell_type": "code",
   "execution_count": 3,
   "id": "8cca045f",
   "metadata": {},
   "outputs": [
    {
     "data": {
      "text/html": [
       "<div>\n",
       "<style scoped>\n",
       "    .dataframe tbody tr th:only-of-type {\n",
       "        vertical-align: middle;\n",
       "    }\n",
       "\n",
       "    .dataframe tbody tr th {\n",
       "        vertical-align: top;\n",
       "    }\n",
       "\n",
       "    .dataframe thead th {\n",
       "        text-align: right;\n",
       "    }\n",
       "</style>\n",
       "<table border=\"1\" class=\"dataframe\">\n",
       "  <thead>\n",
       "    <tr style=\"text-align: right;\">\n",
       "      <th></th>\n",
       "      <th>Airline</th>\n",
       "      <th>Source</th>\n",
       "      <th>Destination</th>\n",
       "      <th>Dep_Time</th>\n",
       "      <th>Arrival_Time</th>\n",
       "      <th>Duration</th>\n",
       "      <th>Total_Stops</th>\n",
       "      <th>Additional_Info</th>\n",
       "      <th>Price</th>\n",
       "      <th>Journey_Month</th>\n",
       "      <th>Journey_DayOfWeek</th>\n",
       "    </tr>\n",
       "  </thead>\n",
       "  <tbody>\n",
       "    <tr>\n",
       "      <th>0</th>\n",
       "      <td>IndiGo</td>\n",
       "      <td>Banglore</td>\n",
       "      <td>New Delhi</td>\n",
       "      <td>22</td>\n",
       "      <td>1</td>\n",
       "      <td>2.833333</td>\n",
       "      <td>0</td>\n",
       "      <td>no info</td>\n",
       "      <td>3897</td>\n",
       "      <td>3</td>\n",
       "      <td>Sunday</td>\n",
       "    </tr>\n",
       "    <tr>\n",
       "      <th>1</th>\n",
       "      <td>Air India</td>\n",
       "      <td>Kolkata</td>\n",
       "      <td>Banglore</td>\n",
       "      <td>5</td>\n",
       "      <td>13</td>\n",
       "      <td>7.416667</td>\n",
       "      <td>2</td>\n",
       "      <td>no info</td>\n",
       "      <td>7662</td>\n",
       "      <td>5</td>\n",
       "      <td>Wednesday</td>\n",
       "    </tr>\n",
       "    <tr>\n",
       "      <th>2</th>\n",
       "      <td>Jet Airways</td>\n",
       "      <td>Delhi</td>\n",
       "      <td>Cochin</td>\n",
       "      <td>9</td>\n",
       "      <td>4</td>\n",
       "      <td>19.000000</td>\n",
       "      <td>2</td>\n",
       "      <td>no info</td>\n",
       "      <td>13882</td>\n",
       "      <td>6</td>\n",
       "      <td>Sunday</td>\n",
       "    </tr>\n",
       "    <tr>\n",
       "      <th>3</th>\n",
       "      <td>IndiGo</td>\n",
       "      <td>Kolkata</td>\n",
       "      <td>Banglore</td>\n",
       "      <td>18</td>\n",
       "      <td>23</td>\n",
       "      <td>5.416667</td>\n",
       "      <td>1</td>\n",
       "      <td>no info</td>\n",
       "      <td>6218</td>\n",
       "      <td>5</td>\n",
       "      <td>Sunday</td>\n",
       "    </tr>\n",
       "    <tr>\n",
       "      <th>4</th>\n",
       "      <td>IndiGo</td>\n",
       "      <td>Banglore</td>\n",
       "      <td>New Delhi</td>\n",
       "      <td>16</td>\n",
       "      <td>21</td>\n",
       "      <td>4.750000</td>\n",
       "      <td>1</td>\n",
       "      <td>no info</td>\n",
       "      <td>13302</td>\n",
       "      <td>3</td>\n",
       "      <td>Friday</td>\n",
       "    </tr>\n",
       "    <tr>\n",
       "      <th>...</th>\n",
       "      <td>...</td>\n",
       "      <td>...</td>\n",
       "      <td>...</td>\n",
       "      <td>...</td>\n",
       "      <td>...</td>\n",
       "      <td>...</td>\n",
       "      <td>...</td>\n",
       "      <td>...</td>\n",
       "      <td>...</td>\n",
       "      <td>...</td>\n",
       "      <td>...</td>\n",
       "    </tr>\n",
       "    <tr>\n",
       "      <th>10457</th>\n",
       "      <td>Air Asia</td>\n",
       "      <td>Kolkata</td>\n",
       "      <td>Banglore</td>\n",
       "      <td>19</td>\n",
       "      <td>22</td>\n",
       "      <td>2.500000</td>\n",
       "      <td>0</td>\n",
       "      <td>no info</td>\n",
       "      <td>4107</td>\n",
       "      <td>4</td>\n",
       "      <td>Tuesday</td>\n",
       "    </tr>\n",
       "    <tr>\n",
       "      <th>10458</th>\n",
       "      <td>Air India</td>\n",
       "      <td>Kolkata</td>\n",
       "      <td>Banglore</td>\n",
       "      <td>20</td>\n",
       "      <td>23</td>\n",
       "      <td>2.583333</td>\n",
       "      <td>0</td>\n",
       "      <td>no info</td>\n",
       "      <td>4145</td>\n",
       "      <td>4</td>\n",
       "      <td>Saturday</td>\n",
       "    </tr>\n",
       "    <tr>\n",
       "      <th>10459</th>\n",
       "      <td>Jet Airways</td>\n",
       "      <td>Banglore</td>\n",
       "      <td>Delhi</td>\n",
       "      <td>8</td>\n",
       "      <td>11</td>\n",
       "      <td>3.000000</td>\n",
       "      <td>0</td>\n",
       "      <td>no info</td>\n",
       "      <td>7229</td>\n",
       "      <td>4</td>\n",
       "      <td>Saturday</td>\n",
       "    </tr>\n",
       "    <tr>\n",
       "      <th>10460</th>\n",
       "      <td>Vistara</td>\n",
       "      <td>Banglore</td>\n",
       "      <td>New Delhi</td>\n",
       "      <td>11</td>\n",
       "      <td>14</td>\n",
       "      <td>2.666667</td>\n",
       "      <td>0</td>\n",
       "      <td>no info</td>\n",
       "      <td>12648</td>\n",
       "      <td>3</td>\n",
       "      <td>Friday</td>\n",
       "    </tr>\n",
       "    <tr>\n",
       "      <th>10461</th>\n",
       "      <td>Air India</td>\n",
       "      <td>Delhi</td>\n",
       "      <td>Cochin</td>\n",
       "      <td>10</td>\n",
       "      <td>19</td>\n",
       "      <td>8.333333</td>\n",
       "      <td>2</td>\n",
       "      <td>no info</td>\n",
       "      <td>11753</td>\n",
       "      <td>5</td>\n",
       "      <td>Thursday</td>\n",
       "    </tr>\n",
       "  </tbody>\n",
       "</table>\n",
       "<p>10462 rows × 11 columns</p>\n",
       "</div>"
      ],
      "text/plain": [
       "           Airline    Source Destination  Dep_Time  Arrival_Time   Duration   \n",
       "0           IndiGo  Banglore   New Delhi        22             1   2.833333  \\\n",
       "1        Air India   Kolkata    Banglore         5            13   7.416667   \n",
       "2      Jet Airways     Delhi      Cochin         9             4  19.000000   \n",
       "3           IndiGo   Kolkata    Banglore        18            23   5.416667   \n",
       "4           IndiGo  Banglore   New Delhi        16            21   4.750000   \n",
       "...            ...       ...         ...       ...           ...        ...   \n",
       "10457     Air Asia   Kolkata    Banglore        19            22   2.500000   \n",
       "10458    Air India   Kolkata    Banglore        20            23   2.583333   \n",
       "10459  Jet Airways  Banglore       Delhi         8            11   3.000000   \n",
       "10460      Vistara  Banglore   New Delhi        11            14   2.666667   \n",
       "10461    Air India     Delhi      Cochin        10            19   8.333333   \n",
       "\n",
       "       Total_Stops Additional_Info  Price  Journey_Month Journey_DayOfWeek  \n",
       "0                0         no info   3897              3            Sunday  \n",
       "1                2         no info   7662              5         Wednesday  \n",
       "2                2         no info  13882              6            Sunday  \n",
       "3                1         no info   6218              5            Sunday  \n",
       "4                1         no info  13302              3            Friday  \n",
       "...            ...             ...    ...            ...               ...  \n",
       "10457            0         no info   4107              4           Tuesday  \n",
       "10458            0         no info   4145              4          Saturday  \n",
       "10459            0         no info   7229              4          Saturday  \n",
       "10460            0         no info  12648              3            Friday  \n",
       "10461            2         no info  11753              5          Thursday  \n",
       "\n",
       "[10462 rows x 11 columns]"
      ]
     },
     "execution_count": 3,
     "metadata": {},
     "output_type": "execute_result"
    }
   ],
   "source": [
    "df = pd.read_csv(\"EDA_OUT.csv\")\n",
    "df"
   ]
  },
  {
   "cell_type": "code",
   "execution_count": 8,
   "id": "bbe278f0",
   "metadata": {},
   "outputs": [],
   "source": [
    "X = df.drop(\"Price\" , axis = 1 )\n",
    "y = df[\"Price\"]"
   ]
  },
  {
   "cell_type": "code",
   "execution_count": 15,
   "id": "9e6c7ff5",
   "metadata": {},
   "outputs": [],
   "source": [
    "X_train, X_test, y_train, y_test = train_test_split(X, y, test_size=0.2, random_state=42)"
   ]
  },
  {
   "cell_type": "code",
   "execution_count": 9,
   "id": "d3311595",
   "metadata": {},
   "outputs": [],
   "source": [
    "Encoder = ColumnTransformer(transformers=[(\"OHE\",OneHotEncoder(sparse_output=False , drop=\"first\" ), \n",
    "                                           [\"Journey_DayOfWeek\" , \"Source\",\"Destination\"]) , (\"BE\",BinaryEncoder() , \n",
    "                                                                                              [\"Airline\" , \"Additional_Info\"] )] , remainder = \"passthrough\")"
   ]
  },
  {
   "cell_type": "code",
   "execution_count": 16,
   "id": "3c345abd",
   "metadata": {},
   "outputs": [],
   "source": [
    "steps = []\n",
    "steps.append((\"Encoder\" , Encoder))\n",
    "steps.append((\"Scaler\" , RobustScaler()))\n",
    "steps.append((\"Model\" , LogisticRegression()))\n",
    "pipeline = Pipeline(steps=steps)"
   ]
  },
  {
   "cell_type": "code",
   "execution_count": 19,
   "id": "3c9a381b",
   "metadata": {},
   "outputs": [],
   "source": [
    "scoring = {'r2': make_scorer(r2_score), 'mse': make_scorer(mean_squared_error)}\n",
    "logreg = LogisticRegression(max_iter=1000)"
   ]
  },
  {
   "cell_type": "code",
   "execution_count": 20,
   "id": "fdc87a1d",
   "metadata": {},
   "outputs": [
    {
     "name": "stderr",
     "output_type": "stream",
     "text": [
      "C:\\Users\\LENOVO\\anaconda3\\envs\\train\\lib\\site-packages\\sklearn\\model_selection\\_split.py:700: UserWarning: The least populated class in y has only 1 members, which is less than n_splits=5.\n",
      "  warnings.warn(\n",
      "C:\\Users\\LENOVO\\anaconda3\\envs\\train\\lib\\site-packages\\sklearn\\linear_model\\_logistic.py:458: ConvergenceWarning: lbfgs failed to converge (status=1):\n",
      "STOP: TOTAL NO. of ITERATIONS REACHED LIMIT.\n",
      "\n",
      "Increase the number of iterations (max_iter) or scale the data as shown in:\n",
      "    https://scikit-learn.org/stable/modules/preprocessing.html\n",
      "Please also refer to the documentation for alternative solver options:\n",
      "    https://scikit-learn.org/stable/modules/linear_model.html#logistic-regression\n",
      "  n_iter_i = _check_optimize_result(\n",
      "C:\\Users\\LENOVO\\anaconda3\\envs\\train\\lib\\site-packages\\sklearn\\linear_model\\_logistic.py:458: ConvergenceWarning: lbfgs failed to converge (status=1):\n",
      "STOP: TOTAL NO. of ITERATIONS REACHED LIMIT.\n",
      "\n",
      "Increase the number of iterations (max_iter) or scale the data as shown in:\n",
      "    https://scikit-learn.org/stable/modules/preprocessing.html\n",
      "Please also refer to the documentation for alternative solver options:\n",
      "    https://scikit-learn.org/stable/modules/linear_model.html#logistic-regression\n",
      "  n_iter_i = _check_optimize_result(\n",
      "C:\\Users\\LENOVO\\anaconda3\\envs\\train\\lib\\site-packages\\sklearn\\linear_model\\_logistic.py:458: ConvergenceWarning: lbfgs failed to converge (status=1):\n",
      "STOP: TOTAL NO. of ITERATIONS REACHED LIMIT.\n",
      "\n",
      "Increase the number of iterations (max_iter) or scale the data as shown in:\n",
      "    https://scikit-learn.org/stable/modules/preprocessing.html\n",
      "Please also refer to the documentation for alternative solver options:\n",
      "    https://scikit-learn.org/stable/modules/linear_model.html#logistic-regression\n",
      "  n_iter_i = _check_optimize_result(\n",
      "C:\\Users\\LENOVO\\anaconda3\\envs\\train\\lib\\site-packages\\sklearn\\linear_model\\_logistic.py:458: ConvergenceWarning: lbfgs failed to converge (status=1):\n",
      "STOP: TOTAL NO. of ITERATIONS REACHED LIMIT.\n",
      "\n",
      "Increase the number of iterations (max_iter) or scale the data as shown in:\n",
      "    https://scikit-learn.org/stable/modules/preprocessing.html\n",
      "Please also refer to the documentation for alternative solver options:\n",
      "    https://scikit-learn.org/stable/modules/linear_model.html#logistic-regression\n",
      "  n_iter_i = _check_optimize_result(\n",
      "C:\\Users\\LENOVO\\anaconda3\\envs\\train\\lib\\site-packages\\sklearn\\linear_model\\_logistic.py:458: ConvergenceWarning: lbfgs failed to converge (status=1):\n",
      "STOP: TOTAL NO. of ITERATIONS REACHED LIMIT.\n",
      "\n",
      "Increase the number of iterations (max_iter) or scale the data as shown in:\n",
      "    https://scikit-learn.org/stable/modules/preprocessing.html\n",
      "Please also refer to the documentation for alternative solver options:\n",
      "    https://scikit-learn.org/stable/modules/linear_model.html#logistic-regression\n",
      "  n_iter_i = _check_optimize_result(\n"
     ]
    }
   ],
   "source": [
    "results = cross_validate(pipeline, X, y, cv=5, scoring=scoring, return_train_score=True)"
   ]
  },
  {
   "cell_type": "code",
   "execution_count": 21,
   "id": "166c6a40",
   "metadata": {},
   "outputs": [
    {
     "name": "stdout",
     "output_type": "stream",
     "text": [
      "Mean Training R2 Score: 0.5648062769983571\n"
     ]
    }
   ],
   "source": [
    "train_r2_mean = results[\"train_r2\"].mean()\n",
    "print(\"Mean Training R2 Score:\", train_r2_mean)"
   ]
  },
  {
   "cell_type": "code",
   "execution_count": 22,
   "id": "4c78fba8",
   "metadata": {},
   "outputs": [
    {
     "name": "stdout",
     "output_type": "stream",
     "text": [
      "Mean Test R2 Score: 0.5533568556202276\n"
     ]
    }
   ],
   "source": [
    "test_r2_mean = results[\"test_r2\"].mean()\n",
    "print(\"Mean Test R2 Score:\", test_r2_mean)"
   ]
  },
  {
   "cell_type": "code",
   "execution_count": null,
   "id": "88705040",
   "metadata": {},
   "outputs": [],
   "source": [
    "X_train, X_test, y_train, y_test = train_test_split(X, y, test_size=0.2, random_state=42)"
   ]
  },
  {
   "cell_type": "code",
   "execution_count": 27,
   "id": "52ec5375",
   "metadata": {},
   "outputs": [],
   "source": [
    "from sklearn.linear_model import LogisticRegression\n",
    "from sklearn.ensemble import RandomForestRegressor, GradientBoostingRegressor\n",
    "import lightgbm as lgb\n"
   ]
  },
  {
   "cell_type": "code",
   "execution_count": 30,
   "id": "e504b1be",
   "metadata": {},
   "outputs": [],
   "source": [
    "models = list()\n",
    "models.append((\"RF\" , RandomForestRegressor()))\n",
    "models.append((\"GB\" , GradientBoostingRegressor()))\n",
    "models.append((\"LG\" , lgb.LGBMRegressor()))"
   ]
  },
  {
   "cell_type": "code",
   "execution_count": 31,
   "id": "483f7eb8",
   "metadata": {},
   "outputs": [
    {
     "name": "stdout",
     "output_type": "stream",
     "text": [
      "RF\n",
      "Train R2 Score: 0.9560426352365212\n",
      "----------\n",
      "Test R2 Score: 0.8033975339155358\n",
      "--------------------\n",
      "\n",
      "\n",
      "GB\n",
      "Train R2 Score: 0.7622270194447238\n",
      "----------\n",
      "Test R2 Score: 0.7402301004656785\n",
      "--------------------\n",
      "\n",
      "\n",
      "LG\n",
      "Train R2 Score: 0.8606735447637229\n",
      "----------\n",
      "Test R2 Score: 0.8028636055223485\n",
      "--------------------\n",
      "\n",
      "\n"
     ]
    }
   ],
   "source": [
    "for model in models:\n",
    "    steps = []\n",
    "    steps.append((\"Encoder\" , Encoder))\n",
    "    steps.append((\"Scaler\" , RobustScaler()))\n",
    "    steps.append(model)\n",
    "    pipeline = Pipeline(steps=steps)\n",
    "    scoring = {'r2': make_scorer(r2_score)}\n",
    "    scores = cross_validate(pipeline, X, y, cv=5, scoring=scoring, return_train_score=True)\n",
    "    \n",
    "    print(model[0])\n",
    "    print(\"Train R2 Score:\", scores[\"train_r2\"].mean())\n",
    "    print(\"-\" * 10)\n",
    "    print(\"Test R2 Score:\", scores[\"test_r2\"].mean())\n",
    "    print(\"-\" * 20)\n",
    "    print(\"\\n\")"
   ]
  },
  {
   "cell_type": "code",
   "execution_count": 33,
   "id": "d126e409",
   "metadata": {},
   "outputs": [],
   "source": [
    "from sklearn.model_selection import GridSearchCV"
   ]
  },
  {
   "cell_type": "code",
   "execution_count": null,
   "id": "fbf8c10b",
   "metadata": {},
   "outputs": [],
   "source": []
  },
  {
   "cell_type": "code",
   "execution_count": 69,
   "id": "ce090134",
   "metadata": {},
   "outputs": [],
   "source": [
    "param_grid = {\n",
    "    'LG__learning_rate': [0.1, 0.01],\n",
    "    'LG__n_estimators': [400, 600],\n",
    "    'LG__max_depth': [5, 7]}"
   ]
  },
  {
   "cell_type": "code",
   "execution_count": 70,
   "id": "e25835b0",
   "metadata": {},
   "outputs": [],
   "source": [
    "steps = []\n",
    "steps.append((\"Encoder\" , Encoder))\n",
    "steps.append((\"Scaler\" , RobustScaler()))\n",
    "steps.append((\"LG\" , lgb.LGBMRegressor()))\n",
    "pipeline = Pipeline(steps=steps)"
   ]
  },
  {
   "cell_type": "code",
   "execution_count": 78,
   "id": "72f38c3d",
   "metadata": {},
   "outputs": [],
   "source": [
    "grid_search = GridSearchCV(estimator=pipeline, param_grid=param_grid, cv=5, \n",
    "                           scoring='neg_mean_squared_error', return_train_score=True, n_jobs=-1, refit=True)"
   ]
  },
  {
   "cell_type": "code",
   "execution_count": 79,
   "id": "aefc8ebf",
   "metadata": {
    "scrolled": true
   },
   "outputs": [
    {
     "data": {
      "text/html": [
       "<style>#sk-container-id-7 {color: black;background-color: white;}#sk-container-id-7 pre{padding: 0;}#sk-container-id-7 div.sk-toggleable {background-color: white;}#sk-container-id-7 label.sk-toggleable__label {cursor: pointer;display: block;width: 100%;margin-bottom: 0;padding: 0.3em;box-sizing: border-box;text-align: center;}#sk-container-id-7 label.sk-toggleable__label-arrow:before {content: \"▸\";float: left;margin-right: 0.25em;color: #696969;}#sk-container-id-7 label.sk-toggleable__label-arrow:hover:before {color: black;}#sk-container-id-7 div.sk-estimator:hover label.sk-toggleable__label-arrow:before {color: black;}#sk-container-id-7 div.sk-toggleable__content {max-height: 0;max-width: 0;overflow: hidden;text-align: left;background-color: #f0f8ff;}#sk-container-id-7 div.sk-toggleable__content pre {margin: 0.2em;color: black;border-radius: 0.25em;background-color: #f0f8ff;}#sk-container-id-7 input.sk-toggleable__control:checked~div.sk-toggleable__content {max-height: 200px;max-width: 100%;overflow: auto;}#sk-container-id-7 input.sk-toggleable__control:checked~label.sk-toggleable__label-arrow:before {content: \"▾\";}#sk-container-id-7 div.sk-estimator input.sk-toggleable__control:checked~label.sk-toggleable__label {background-color: #d4ebff;}#sk-container-id-7 div.sk-label input.sk-toggleable__control:checked~label.sk-toggleable__label {background-color: #d4ebff;}#sk-container-id-7 input.sk-hidden--visually {border: 0;clip: rect(1px 1px 1px 1px);clip: rect(1px, 1px, 1px, 1px);height: 1px;margin: -1px;overflow: hidden;padding: 0;position: absolute;width: 1px;}#sk-container-id-7 div.sk-estimator {font-family: monospace;background-color: #f0f8ff;border: 1px dotted black;border-radius: 0.25em;box-sizing: border-box;margin-bottom: 0.5em;}#sk-container-id-7 div.sk-estimator:hover {background-color: #d4ebff;}#sk-container-id-7 div.sk-parallel-item::after {content: \"\";width: 100%;border-bottom: 1px solid gray;flex-grow: 1;}#sk-container-id-7 div.sk-label:hover label.sk-toggleable__label {background-color: #d4ebff;}#sk-container-id-7 div.sk-serial::before {content: \"\";position: absolute;border-left: 1px solid gray;box-sizing: border-box;top: 0;bottom: 0;left: 50%;z-index: 0;}#sk-container-id-7 div.sk-serial {display: flex;flex-direction: column;align-items: center;background-color: white;padding-right: 0.2em;padding-left: 0.2em;position: relative;}#sk-container-id-7 div.sk-item {position: relative;z-index: 1;}#sk-container-id-7 div.sk-parallel {display: flex;align-items: stretch;justify-content: center;background-color: white;position: relative;}#sk-container-id-7 div.sk-item::before, #sk-container-id-7 div.sk-parallel-item::before {content: \"\";position: absolute;border-left: 1px solid gray;box-sizing: border-box;top: 0;bottom: 0;left: 50%;z-index: -1;}#sk-container-id-7 div.sk-parallel-item {display: flex;flex-direction: column;z-index: 1;position: relative;background-color: white;}#sk-container-id-7 div.sk-parallel-item:first-child::after {align-self: flex-end;width: 50%;}#sk-container-id-7 div.sk-parallel-item:last-child::after {align-self: flex-start;width: 50%;}#sk-container-id-7 div.sk-parallel-item:only-child::after {width: 0;}#sk-container-id-7 div.sk-dashed-wrapped {border: 1px dashed gray;margin: 0 0.4em 0.5em 0.4em;box-sizing: border-box;padding-bottom: 0.4em;background-color: white;}#sk-container-id-7 div.sk-label label {font-family: monospace;font-weight: bold;display: inline-block;line-height: 1.2em;}#sk-container-id-7 div.sk-label-container {text-align: center;}#sk-container-id-7 div.sk-container {/* jupyter's `normalize.less` sets `[hidden] { display: none; }` but bootstrap.min.css set `[hidden] { display: none !important; }` so we also need the `!important` here to be able to override the default hidden behavior on the sphinx rendered scikit-learn.org. See: https://github.com/scikit-learn/scikit-learn/issues/21755 */display: inline-block !important;position: relative;}#sk-container-id-7 div.sk-text-repr-fallback {display: none;}</style><div id=\"sk-container-id-7\" class=\"sk-top-container\"><div class=\"sk-text-repr-fallback\"><pre>GridSearchCV(cv=5,\n",
       "             estimator=Pipeline(steps=[(&#x27;Encoder&#x27;,\n",
       "                                        ColumnTransformer(remainder=&#x27;passthrough&#x27;,\n",
       "                                                          transformers=[(&#x27;OHE&#x27;,\n",
       "                                                                         OneHotEncoder(drop=&#x27;first&#x27;,\n",
       "                                                                                       sparse_output=False),\n",
       "                                                                         [&#x27;Journey_DayOfWeek&#x27;,\n",
       "                                                                          &#x27;Source&#x27;,\n",
       "                                                                          &#x27;Destination&#x27;]),\n",
       "                                                                        (&#x27;BE&#x27;,\n",
       "                                                                         BinaryEncoder(),\n",
       "                                                                         [&#x27;Airline&#x27;,\n",
       "                                                                          &#x27;Additional_Info&#x27;])])),\n",
       "                                       (&#x27;Scaler&#x27;, RobustScaler()),\n",
       "                                       (&#x27;LG&#x27;, LGBMRegressor())]),\n",
       "             n_jobs=-1,\n",
       "             param_grid={&#x27;LG__learning_rate&#x27;: [0.1, 0.01],\n",
       "                         &#x27;LG__max_depth&#x27;: [5, 7],\n",
       "                         &#x27;LG__n_estimators&#x27;: [400, 600]},\n",
       "             return_train_score=True, scoring=&#x27;neg_mean_squared_error&#x27;)</pre><b>In a Jupyter environment, please rerun this cell to show the HTML representation or trust the notebook. <br />On GitHub, the HTML representation is unable to render, please try loading this page with nbviewer.org.</b></div><div class=\"sk-container\" hidden><div class=\"sk-item sk-dashed-wrapped\"><div class=\"sk-label-container\"><div class=\"sk-label sk-toggleable\"><input class=\"sk-toggleable__control sk-hidden--visually\" id=\"sk-estimator-id-67\" type=\"checkbox\" ><label for=\"sk-estimator-id-67\" class=\"sk-toggleable__label sk-toggleable__label-arrow\">GridSearchCV</label><div class=\"sk-toggleable__content\"><pre>GridSearchCV(cv=5,\n",
       "             estimator=Pipeline(steps=[(&#x27;Encoder&#x27;,\n",
       "                                        ColumnTransformer(remainder=&#x27;passthrough&#x27;,\n",
       "                                                          transformers=[(&#x27;OHE&#x27;,\n",
       "                                                                         OneHotEncoder(drop=&#x27;first&#x27;,\n",
       "                                                                                       sparse_output=False),\n",
       "                                                                         [&#x27;Journey_DayOfWeek&#x27;,\n",
       "                                                                          &#x27;Source&#x27;,\n",
       "                                                                          &#x27;Destination&#x27;]),\n",
       "                                                                        (&#x27;BE&#x27;,\n",
       "                                                                         BinaryEncoder(),\n",
       "                                                                         [&#x27;Airline&#x27;,\n",
       "                                                                          &#x27;Additional_Info&#x27;])])),\n",
       "                                       (&#x27;Scaler&#x27;, RobustScaler()),\n",
       "                                       (&#x27;LG&#x27;, LGBMRegressor())]),\n",
       "             n_jobs=-1,\n",
       "             param_grid={&#x27;LG__learning_rate&#x27;: [0.1, 0.01],\n",
       "                         &#x27;LG__max_depth&#x27;: [5, 7],\n",
       "                         &#x27;LG__n_estimators&#x27;: [400, 600]},\n",
       "             return_train_score=True, scoring=&#x27;neg_mean_squared_error&#x27;)</pre></div></div></div><div class=\"sk-parallel\"><div class=\"sk-parallel-item\"><div class=\"sk-item\"><div class=\"sk-label-container\"><div class=\"sk-label sk-toggleable\"><input class=\"sk-toggleable__control sk-hidden--visually\" id=\"sk-estimator-id-68\" type=\"checkbox\" ><label for=\"sk-estimator-id-68\" class=\"sk-toggleable__label sk-toggleable__label-arrow\">estimator: Pipeline</label><div class=\"sk-toggleable__content\"><pre>Pipeline(steps=[(&#x27;Encoder&#x27;,\n",
       "                 ColumnTransformer(remainder=&#x27;passthrough&#x27;,\n",
       "                                   transformers=[(&#x27;OHE&#x27;,\n",
       "                                                  OneHotEncoder(drop=&#x27;first&#x27;,\n",
       "                                                                sparse_output=False),\n",
       "                                                  [&#x27;Journey_DayOfWeek&#x27;,\n",
       "                                                   &#x27;Source&#x27;, &#x27;Destination&#x27;]),\n",
       "                                                 (&#x27;BE&#x27;, BinaryEncoder(),\n",
       "                                                  [&#x27;Airline&#x27;,\n",
       "                                                   &#x27;Additional_Info&#x27;])])),\n",
       "                (&#x27;Scaler&#x27;, RobustScaler()), (&#x27;LG&#x27;, LGBMRegressor())])</pre></div></div></div><div class=\"sk-serial\"><div class=\"sk-item\"><div class=\"sk-serial\"><div class=\"sk-item sk-dashed-wrapped\"><div class=\"sk-label-container\"><div class=\"sk-label sk-toggleable\"><input class=\"sk-toggleable__control sk-hidden--visually\" id=\"sk-estimator-id-69\" type=\"checkbox\" ><label for=\"sk-estimator-id-69\" class=\"sk-toggleable__label sk-toggleable__label-arrow\">Encoder: ColumnTransformer</label><div class=\"sk-toggleable__content\"><pre>ColumnTransformer(remainder=&#x27;passthrough&#x27;,\n",
       "                  transformers=[(&#x27;OHE&#x27;,\n",
       "                                 OneHotEncoder(drop=&#x27;first&#x27;,\n",
       "                                               sparse_output=False),\n",
       "                                 [&#x27;Journey_DayOfWeek&#x27;, &#x27;Source&#x27;,\n",
       "                                  &#x27;Destination&#x27;]),\n",
       "                                (&#x27;BE&#x27;, BinaryEncoder(),\n",
       "                                 [&#x27;Airline&#x27;, &#x27;Additional_Info&#x27;])])</pre></div></div></div><div class=\"sk-parallel\"><div class=\"sk-parallel-item\"><div class=\"sk-item\"><div class=\"sk-label-container\"><div class=\"sk-label sk-toggleable\"><input class=\"sk-toggleable__control sk-hidden--visually\" id=\"sk-estimator-id-70\" type=\"checkbox\" ><label for=\"sk-estimator-id-70\" class=\"sk-toggleable__label sk-toggleable__label-arrow\">OHE</label><div class=\"sk-toggleable__content\"><pre>[&#x27;Journey_DayOfWeek&#x27;, &#x27;Source&#x27;, &#x27;Destination&#x27;]</pre></div></div></div><div class=\"sk-serial\"><div class=\"sk-item\"><div class=\"sk-estimator sk-toggleable\"><input class=\"sk-toggleable__control sk-hidden--visually\" id=\"sk-estimator-id-71\" type=\"checkbox\" ><label for=\"sk-estimator-id-71\" class=\"sk-toggleable__label sk-toggleable__label-arrow\">OneHotEncoder</label><div class=\"sk-toggleable__content\"><pre>OneHotEncoder(drop=&#x27;first&#x27;, sparse_output=False)</pre></div></div></div></div></div></div><div class=\"sk-parallel-item\"><div class=\"sk-item\"><div class=\"sk-label-container\"><div class=\"sk-label sk-toggleable\"><input class=\"sk-toggleable__control sk-hidden--visually\" id=\"sk-estimator-id-72\" type=\"checkbox\" ><label for=\"sk-estimator-id-72\" class=\"sk-toggleable__label sk-toggleable__label-arrow\">BE</label><div class=\"sk-toggleable__content\"><pre>[&#x27;Airline&#x27;, &#x27;Additional_Info&#x27;]</pre></div></div></div><div class=\"sk-serial\"><div class=\"sk-item\"><div class=\"sk-estimator sk-toggleable\"><input class=\"sk-toggleable__control sk-hidden--visually\" id=\"sk-estimator-id-73\" type=\"checkbox\" ><label for=\"sk-estimator-id-73\" class=\"sk-toggleable__label sk-toggleable__label-arrow\">BinaryEncoder</label><div class=\"sk-toggleable__content\"><pre>BinaryEncoder()</pre></div></div></div></div></div></div><div class=\"sk-parallel-item\"><div class=\"sk-item\"><div class=\"sk-label-container\"><div class=\"sk-label sk-toggleable\"><input class=\"sk-toggleable__control sk-hidden--visually\" id=\"sk-estimator-id-74\" type=\"checkbox\" ><label for=\"sk-estimator-id-74\" class=\"sk-toggleable__label sk-toggleable__label-arrow\">remainder</label><div class=\"sk-toggleable__content\"><pre></pre></div></div></div><div class=\"sk-serial\"><div class=\"sk-item\"><div class=\"sk-estimator sk-toggleable\"><input class=\"sk-toggleable__control sk-hidden--visually\" id=\"sk-estimator-id-75\" type=\"checkbox\" ><label for=\"sk-estimator-id-75\" class=\"sk-toggleable__label sk-toggleable__label-arrow\">passthrough</label><div class=\"sk-toggleable__content\"><pre>passthrough</pre></div></div></div></div></div></div></div></div><div class=\"sk-item\"><div class=\"sk-estimator sk-toggleable\"><input class=\"sk-toggleable__control sk-hidden--visually\" id=\"sk-estimator-id-76\" type=\"checkbox\" ><label for=\"sk-estimator-id-76\" class=\"sk-toggleable__label sk-toggleable__label-arrow\">RobustScaler</label><div class=\"sk-toggleable__content\"><pre>RobustScaler()</pre></div></div></div><div class=\"sk-item\"><div class=\"sk-estimator sk-toggleable\"><input class=\"sk-toggleable__control sk-hidden--visually\" id=\"sk-estimator-id-77\" type=\"checkbox\" ><label for=\"sk-estimator-id-77\" class=\"sk-toggleable__label sk-toggleable__label-arrow\">LGBMRegressor</label><div class=\"sk-toggleable__content\"><pre>LGBMRegressor()</pre></div></div></div></div></div></div></div></div></div></div></div></div>"
      ],
      "text/plain": [
       "GridSearchCV(cv=5,\n",
       "             estimator=Pipeline(steps=[('Encoder',\n",
       "                                        ColumnTransformer(remainder='passthrough',\n",
       "                                                          transformers=[('OHE',\n",
       "                                                                         OneHotEncoder(drop='first',\n",
       "                                                                                       sparse_output=False),\n",
       "                                                                         ['Journey_DayOfWeek',\n",
       "                                                                          'Source',\n",
       "                                                                          'Destination']),\n",
       "                                                                        ('BE',\n",
       "                                                                         BinaryEncoder(),\n",
       "                                                                         ['Airline',\n",
       "                                                                          'Additional_Info'])])),\n",
       "                                       ('Scaler', RobustScaler()),\n",
       "                                       ('LG', LGBMRegressor())]),\n",
       "             n_jobs=-1,\n",
       "             param_grid={'LG__learning_rate': [0.1, 0.01],\n",
       "                         'LG__max_depth': [5, 7],\n",
       "                         'LG__n_estimators': [400, 600]},\n",
       "             return_train_score=True, scoring='neg_mean_squared_error')"
      ]
     },
     "execution_count": 79,
     "metadata": {},
     "output_type": "execute_result"
    }
   ],
   "source": [
    "grid_search.fit (X,y)"
   ]
  },
  {
   "cell_type": "code",
   "execution_count": 80,
   "id": "56f5b306",
   "metadata": {},
   "outputs": [
    {
     "name": "stdout",
     "output_type": "stream",
     "text": [
      "Best Parameters:  {'LG__learning_rate': 0.1, 'LG__max_depth': 7, 'LG__n_estimators': 600}\n",
      "Best Score:  3732865.8755764244\n"
     ]
    }
   ],
   "source": [
    "# Print the best parameters and score\n",
    "print(\"Best Parameters: \", grid_search.best_params_)\n",
    "print(\"Best Score: \", -grid_search.best_score_)"
   ]
  },
  {
   "cell_type": "code",
   "execution_count": 81,
   "id": "ea02423f",
   "metadata": {},
   "outputs": [
    {
     "data": {
      "text/plain": [
       "{'LG__learning_rate': 0.1, 'LG__max_depth': 7, 'LG__n_estimators': 600}"
      ]
     },
     "execution_count": 81,
     "metadata": {},
     "output_type": "execute_result"
    }
   ],
   "source": [
    "grid_search.best_params_"
   ]
  },
  {
   "cell_type": "code",
   "execution_count": 82,
   "id": "085f8400",
   "metadata": {},
   "outputs": [
    {
     "name": "stdout",
     "output_type": "stream",
     "text": [
      "R2 Score on Validation Set: 0.8978184871331811\n"
     ]
    }
   ],
   "source": [
    "y_pred = grid_search.best_estimator_.predict(X_test)\n",
    "r2 = r2_score(y_test, y_pred)\n",
    "print(\"R2 Score on Validation Set:\", r2)"
   ]
  },
  {
   "cell_type": "code",
   "execution_count": 85,
   "id": "93802022",
   "metadata": {},
   "outputs": [],
   "source": [
    "best_model = grid_search.best_estimator_"
   ]
  },
  {
   "cell_type": "code",
   "execution_count": 86,
   "id": "38d1ed42",
   "metadata": {},
   "outputs": [],
   "source": [
    "import joblib"
   ]
  },
  {
   "cell_type": "code",
   "execution_count": 88,
   "id": "58a200fe",
   "metadata": {},
   "outputs": [
    {
     "data": {
      "text/plain": [
       "['Inputs.pkl']"
      ]
     },
     "execution_count": 88,
     "metadata": {},
     "output_type": "execute_result"
    }
   ],
   "source": [
    "joblib.dump(final_model , \"Model.pkl\")\n",
    "joblib.dump(X.columns , \"Inputs.pkl\")"
   ]
  },
  {
   "cell_type": "code",
   "execution_count": 5,
   "id": "e3f1e46a",
   "metadata": {},
   "outputs": [
    {
     "data": {
      "text/html": [
       "<style>#sk-container-id-1 {color: black;background-color: white;}#sk-container-id-1 pre{padding: 0;}#sk-container-id-1 div.sk-toggleable {background-color: white;}#sk-container-id-1 label.sk-toggleable__label {cursor: pointer;display: block;width: 100%;margin-bottom: 0;padding: 0.3em;box-sizing: border-box;text-align: center;}#sk-container-id-1 label.sk-toggleable__label-arrow:before {content: \"▸\";float: left;margin-right: 0.25em;color: #696969;}#sk-container-id-1 label.sk-toggleable__label-arrow:hover:before {color: black;}#sk-container-id-1 div.sk-estimator:hover label.sk-toggleable__label-arrow:before {color: black;}#sk-container-id-1 div.sk-toggleable__content {max-height: 0;max-width: 0;overflow: hidden;text-align: left;background-color: #f0f8ff;}#sk-container-id-1 div.sk-toggleable__content pre {margin: 0.2em;color: black;border-radius: 0.25em;background-color: #f0f8ff;}#sk-container-id-1 input.sk-toggleable__control:checked~div.sk-toggleable__content {max-height: 200px;max-width: 100%;overflow: auto;}#sk-container-id-1 input.sk-toggleable__control:checked~label.sk-toggleable__label-arrow:before {content: \"▾\";}#sk-container-id-1 div.sk-estimator input.sk-toggleable__control:checked~label.sk-toggleable__label {background-color: #d4ebff;}#sk-container-id-1 div.sk-label input.sk-toggleable__control:checked~label.sk-toggleable__label {background-color: #d4ebff;}#sk-container-id-1 input.sk-hidden--visually {border: 0;clip: rect(1px 1px 1px 1px);clip: rect(1px, 1px, 1px, 1px);height: 1px;margin: -1px;overflow: hidden;padding: 0;position: absolute;width: 1px;}#sk-container-id-1 div.sk-estimator {font-family: monospace;background-color: #f0f8ff;border: 1px dotted black;border-radius: 0.25em;box-sizing: border-box;margin-bottom: 0.5em;}#sk-container-id-1 div.sk-estimator:hover {background-color: #d4ebff;}#sk-container-id-1 div.sk-parallel-item::after {content: \"\";width: 100%;border-bottom: 1px solid gray;flex-grow: 1;}#sk-container-id-1 div.sk-label:hover label.sk-toggleable__label {background-color: #d4ebff;}#sk-container-id-1 div.sk-serial::before {content: \"\";position: absolute;border-left: 1px solid gray;box-sizing: border-box;top: 0;bottom: 0;left: 50%;z-index: 0;}#sk-container-id-1 div.sk-serial {display: flex;flex-direction: column;align-items: center;background-color: white;padding-right: 0.2em;padding-left: 0.2em;position: relative;}#sk-container-id-1 div.sk-item {position: relative;z-index: 1;}#sk-container-id-1 div.sk-parallel {display: flex;align-items: stretch;justify-content: center;background-color: white;position: relative;}#sk-container-id-1 div.sk-item::before, #sk-container-id-1 div.sk-parallel-item::before {content: \"\";position: absolute;border-left: 1px solid gray;box-sizing: border-box;top: 0;bottom: 0;left: 50%;z-index: -1;}#sk-container-id-1 div.sk-parallel-item {display: flex;flex-direction: column;z-index: 1;position: relative;background-color: white;}#sk-container-id-1 div.sk-parallel-item:first-child::after {align-self: flex-end;width: 50%;}#sk-container-id-1 div.sk-parallel-item:last-child::after {align-self: flex-start;width: 50%;}#sk-container-id-1 div.sk-parallel-item:only-child::after {width: 0;}#sk-container-id-1 div.sk-dashed-wrapped {border: 1px dashed gray;margin: 0 0.4em 0.5em 0.4em;box-sizing: border-box;padding-bottom: 0.4em;background-color: white;}#sk-container-id-1 div.sk-label label {font-family: monospace;font-weight: bold;display: inline-block;line-height: 1.2em;}#sk-container-id-1 div.sk-label-container {text-align: center;}#sk-container-id-1 div.sk-container {/* jupyter's `normalize.less` sets `[hidden] { display: none; }` but bootstrap.min.css set `[hidden] { display: none !important; }` so we also need the `!important` here to be able to override the default hidden behavior on the sphinx rendered scikit-learn.org. See: https://github.com/scikit-learn/scikit-learn/issues/21755 */display: inline-block !important;position: relative;}#sk-container-id-1 div.sk-text-repr-fallback {display: none;}</style><div id=\"sk-container-id-1\" class=\"sk-top-container\"><div class=\"sk-text-repr-fallback\"><pre>Pipeline(steps=[(&#x27;Encoder&#x27;,\n",
       "                 ColumnTransformer(remainder=&#x27;passthrough&#x27;,\n",
       "                                   transformers=[(&#x27;OHE&#x27;,\n",
       "                                                  OneHotEncoder(drop=&#x27;first&#x27;,\n",
       "                                                                sparse_output=False),\n",
       "                                                  [&#x27;Journey_DayOfWeek&#x27;,\n",
       "                                                   &#x27;Source&#x27;, &#x27;Destination&#x27;]),\n",
       "                                                 (&#x27;BE&#x27;, BinaryEncoder(),\n",
       "                                                  [&#x27;Airline&#x27;,\n",
       "                                                   &#x27;Additional_Info&#x27;])])),\n",
       "                (&#x27;Scaler&#x27;, RobustScaler()),\n",
       "                (&#x27;LG&#x27;, LGBMRegressor(max_depth=7, n_estimators=600))])</pre><b>In a Jupyter environment, please rerun this cell to show the HTML representation or trust the notebook. <br />On GitHub, the HTML representation is unable to render, please try loading this page with nbviewer.org.</b></div><div class=\"sk-container\" hidden><div class=\"sk-item sk-dashed-wrapped\"><div class=\"sk-label-container\"><div class=\"sk-label sk-toggleable\"><input class=\"sk-toggleable__control sk-hidden--visually\" id=\"sk-estimator-id-1\" type=\"checkbox\" ><label for=\"sk-estimator-id-1\" class=\"sk-toggleable__label sk-toggleable__label-arrow\">Pipeline</label><div class=\"sk-toggleable__content\"><pre>Pipeline(steps=[(&#x27;Encoder&#x27;,\n",
       "                 ColumnTransformer(remainder=&#x27;passthrough&#x27;,\n",
       "                                   transformers=[(&#x27;OHE&#x27;,\n",
       "                                                  OneHotEncoder(drop=&#x27;first&#x27;,\n",
       "                                                                sparse_output=False),\n",
       "                                                  [&#x27;Journey_DayOfWeek&#x27;,\n",
       "                                                   &#x27;Source&#x27;, &#x27;Destination&#x27;]),\n",
       "                                                 (&#x27;BE&#x27;, BinaryEncoder(),\n",
       "                                                  [&#x27;Airline&#x27;,\n",
       "                                                   &#x27;Additional_Info&#x27;])])),\n",
       "                (&#x27;Scaler&#x27;, RobustScaler()),\n",
       "                (&#x27;LG&#x27;, LGBMRegressor(max_depth=7, n_estimators=600))])</pre></div></div></div><div class=\"sk-serial\"><div class=\"sk-item sk-dashed-wrapped\"><div class=\"sk-label-container\"><div class=\"sk-label sk-toggleable\"><input class=\"sk-toggleable__control sk-hidden--visually\" id=\"sk-estimator-id-2\" type=\"checkbox\" ><label for=\"sk-estimator-id-2\" class=\"sk-toggleable__label sk-toggleable__label-arrow\">Encoder: ColumnTransformer</label><div class=\"sk-toggleable__content\"><pre>ColumnTransformer(remainder=&#x27;passthrough&#x27;,\n",
       "                  transformers=[(&#x27;OHE&#x27;,\n",
       "                                 OneHotEncoder(drop=&#x27;first&#x27;,\n",
       "                                               sparse_output=False),\n",
       "                                 [&#x27;Journey_DayOfWeek&#x27;, &#x27;Source&#x27;,\n",
       "                                  &#x27;Destination&#x27;]),\n",
       "                                (&#x27;BE&#x27;, BinaryEncoder(),\n",
       "                                 [&#x27;Airline&#x27;, &#x27;Additional_Info&#x27;])])</pre></div></div></div><div class=\"sk-parallel\"><div class=\"sk-parallel-item\"><div class=\"sk-item\"><div class=\"sk-label-container\"><div class=\"sk-label sk-toggleable\"><input class=\"sk-toggleable__control sk-hidden--visually\" id=\"sk-estimator-id-3\" type=\"checkbox\" ><label for=\"sk-estimator-id-3\" class=\"sk-toggleable__label sk-toggleable__label-arrow\">OHE</label><div class=\"sk-toggleable__content\"><pre>[&#x27;Journey_DayOfWeek&#x27;, &#x27;Source&#x27;, &#x27;Destination&#x27;]</pre></div></div></div><div class=\"sk-serial\"><div class=\"sk-item\"><div class=\"sk-estimator sk-toggleable\"><input class=\"sk-toggleable__control sk-hidden--visually\" id=\"sk-estimator-id-4\" type=\"checkbox\" ><label for=\"sk-estimator-id-4\" class=\"sk-toggleable__label sk-toggleable__label-arrow\">OneHotEncoder</label><div class=\"sk-toggleable__content\"><pre>OneHotEncoder(drop=&#x27;first&#x27;, sparse_output=False)</pre></div></div></div></div></div></div><div class=\"sk-parallel-item\"><div class=\"sk-item\"><div class=\"sk-label-container\"><div class=\"sk-label sk-toggleable\"><input class=\"sk-toggleable__control sk-hidden--visually\" id=\"sk-estimator-id-5\" type=\"checkbox\" ><label for=\"sk-estimator-id-5\" class=\"sk-toggleable__label sk-toggleable__label-arrow\">BE</label><div class=\"sk-toggleable__content\"><pre>[&#x27;Airline&#x27;, &#x27;Additional_Info&#x27;]</pre></div></div></div><div class=\"sk-serial\"><div class=\"sk-item\"><div class=\"sk-estimator sk-toggleable\"><input class=\"sk-toggleable__control sk-hidden--visually\" id=\"sk-estimator-id-6\" type=\"checkbox\" ><label for=\"sk-estimator-id-6\" class=\"sk-toggleable__label sk-toggleable__label-arrow\">BinaryEncoder</label><div class=\"sk-toggleable__content\"><pre>BinaryEncoder()</pre></div></div></div></div></div></div><div class=\"sk-parallel-item\"><div class=\"sk-item\"><div class=\"sk-label-container\"><div class=\"sk-label sk-toggleable\"><input class=\"sk-toggleable__control sk-hidden--visually\" id=\"sk-estimator-id-7\" type=\"checkbox\" ><label for=\"sk-estimator-id-7\" class=\"sk-toggleable__label sk-toggleable__label-arrow\">remainder</label><div class=\"sk-toggleable__content\"><pre>[&#x27;Dep_Time&#x27;, &#x27;Arrival_Time&#x27;, &#x27;Duration&#x27;, &#x27;Total_Stops&#x27;, &#x27;Journey_Month&#x27;]</pre></div></div></div><div class=\"sk-serial\"><div class=\"sk-item\"><div class=\"sk-estimator sk-toggleable\"><input class=\"sk-toggleable__control sk-hidden--visually\" id=\"sk-estimator-id-8\" type=\"checkbox\" ><label for=\"sk-estimator-id-8\" class=\"sk-toggleable__label sk-toggleable__label-arrow\">passthrough</label><div class=\"sk-toggleable__content\"><pre>passthrough</pre></div></div></div></div></div></div></div></div><div class=\"sk-item\"><div class=\"sk-estimator sk-toggleable\"><input class=\"sk-toggleable__control sk-hidden--visually\" id=\"sk-estimator-id-9\" type=\"checkbox\" ><label for=\"sk-estimator-id-9\" class=\"sk-toggleable__label sk-toggleable__label-arrow\">RobustScaler</label><div class=\"sk-toggleable__content\"><pre>RobustScaler()</pre></div></div></div><div class=\"sk-item\"><div class=\"sk-estimator sk-toggleable\"><input class=\"sk-toggleable__control sk-hidden--visually\" id=\"sk-estimator-id-10\" type=\"checkbox\" ><label for=\"sk-estimator-id-10\" class=\"sk-toggleable__label sk-toggleable__label-arrow\">LGBMRegressor</label><div class=\"sk-toggleable__content\"><pre>LGBMRegressor(max_depth=7, n_estimators=600)</pre></div></div></div></div></div></div></div>"
      ],
      "text/plain": [
       "Pipeline(steps=[('Encoder',\n",
       "                 ColumnTransformer(remainder='passthrough',\n",
       "                                   transformers=[('OHE',\n",
       "                                                  OneHotEncoder(drop='first',\n",
       "                                                                sparse_output=False),\n",
       "                                                  ['Journey_DayOfWeek',\n",
       "                                                   'Source', 'Destination']),\n",
       "                                                 ('BE', BinaryEncoder(),\n",
       "                                                  ['Airline',\n",
       "                                                   'Additional_Info'])])),\n",
       "                ('Scaler', RobustScaler()),\n",
       "                ('LG', LGBMRegressor(max_depth=7, n_estimators=600))])"
      ]
     },
     "execution_count": 5,
     "metadata": {},
     "output_type": "execute_result"
    }
   ],
   "source": [
    "import joblib\n",
    "\n",
    "# Load the model\n",
    "loaded_model = joblib.load(\"Model.pkl\")\n",
    "loaded_model\n"
   ]
  },
  {
   "cell_type": "code",
   "execution_count": 89,
   "id": "9bef2ede",
   "metadata": {},
   "outputs": [
    {
     "data": {
      "text/plain": [
       "Index(['Airline', 'Source', 'Destination', 'Dep_Time', 'Arrival_Time',\n",
       "       'Duration', 'Total_Stops', 'Additional_Info', 'Journey_Month',\n",
       "       'Journey_DayOfWeek'],\n",
       "      dtype='object')"
      ]
     },
     "execution_count": 89,
     "metadata": {},
     "output_type": "execute_result"
    }
   ],
   "source": [
    "X.columns"
   ]
  },
  {
   "cell_type": "code",
   "execution_count": 6,
   "id": "435ca6b0",
   "metadata": {},
   "outputs": [
    {
     "name": "stdout",
     "output_type": "stream",
     "text": [
      "Overwriting app_3rd.py\n"
     ]
    }
   ],
   "source": [
    "%%writefile app_3rd.py\n",
    "import streamlit as st\n",
    "import pandas as pd\n",
    "import category_encoders\n",
    "import joblib\n",
    "import sklearn\n",
    "import lightgbm as lgb\n",
    "\n",
    "\n",
    "Inputs = joblib.load(\"Inputs.pkl\")\n",
    "Model = joblib.load(\"Model.pkl\")\n",
    "\n",
    "def prediction(Airline,Source,Destination,Dep_Time,Arrival_Time,Duration,Total_Stops,Additional_Info,Journey_Month,Journey_DayOfWeek):\n",
    "    test_df = pd.DataFrame(columns=Inputs)\n",
    "    test_df.at[0,\"Airline\"] = Airline\n",
    "    test_df.at[0,\"Source\"] = Source\n",
    "    test_df.at[0,\"Destination\"] = Destination\n",
    "    test_df.at[0,\"Dep_Time\"] = Dep_Time\n",
    "    test_df.at[0,\"Arrival_Time\"] = Arrival_Time\n",
    "    test_df.at[0,\"Duration\"] = Duration\n",
    "    test_df.at[0,\"Total_Stops\"] = Total_Stops\n",
    "    test_df.at[0,\"Additional_Info\"] = Additional_Info\n",
    "    test_df.at[0,\"Journey_Month\"] = Journey_Month\n",
    "    test_df.at[0,\"Journey_DayOfWeek\"] = Journey_DayOfWeek\n",
    "    st.dataframe(test_df)\n",
    "    result = Model.predict(test_df)[0]\n",
    "    return result\n",
    "\n",
    "    \n",
    "def main():\n",
    "    st.title(\"flight tickets price prediction\")\n",
    "    Airline = st.selectbox(\"Airline\" , ['Jet Airways','IndiGo', 'Air India', 'Multiple carriers', 'SpiceJet','Vistara',\n",
    "                                        'Air Asia', 'GoAir','Multiple carriers Premium economy',\n",
    "                                        'Jet Airways Business','Vistara Premium economy','Trujet'])\n",
    "    Source = st.selectbox(\"Source\" , ['Delhi','Kolkata','Banglore','Mumbai','Chennai'])\n",
    "    Destination= st.selectbox(\"Destination\" , ['Cochin','Banglore','Delhi','New Delhi','Hyderabad','Kolkata'])\n",
    "    Dep_Time = st.slider(\"Dep_Time\" , min_value= 0 , max_value=23 , value=0,step=1)\n",
    "    Arrival_Time = st.slider(\"Arrival_Time\" , min_value= 0 , max_value=23 , value=0,step=1)\n",
    "    Duration = st.slider(\"Duration\" , min_value= 0 , max_value=50 , value=0,step= 0.5)\n",
    "    Total_Stops = st.selectbox(\"Total_Stops\" , [0, 1, 2, 3])\n",
    "    Additional_Info = st.selectbox(\"Additional_Info\" , ['no info','in-flight meal not included',\n",
    "                                                        'no check-in baggage included','1 long layover',\n",
    "                                                        'change airports','business class','1 short layover',\n",
    "                                                        'red-eye flight','2 long layover'])\n",
    "    Journey_Month = st.selectbox(\"Journey_Month\" , [3,4,5,6])\n",
    "    Journey_DayOfWeek = st.selectbox(\"Journey_DayOfWeek\" , ['Monday', 'Tuesday', 'Wednesday', 'Thursday', 'Friday', 'Saturday', 'Sunday'])\n",
    "    \n",
    "    if st.button(\"predict the flight cost\"):\n",
    "        result = prediction(Airline, Source, Destination, Dep_Time, Arrival_Time,Duration, Total_Stops, Additional_Info, Journey_Month,Journey_DayOfWeek)\n",
    "        st.text(f\"The flight ticket will cost {[results]} dollars\")\n",
    "        \n",
    "if __name__ == '__main__':\n",
    "    main()    \n",
    "    "
   ]
  },
  {
   "cell_type": "code",
   "execution_count": null,
   "id": "0dfc75bf",
   "metadata": {},
   "outputs": [],
   "source": []
  }
 ],
 "metadata": {
  "kernelspec": {
   "display_name": "Python 3 (ipykernel)",
   "language": "python",
   "name": "python3"
  },
  "language_info": {
   "codemirror_mode": {
    "name": "ipython",
    "version": 3
   },
   "file_extension": ".py",
   "mimetype": "text/x-python",
   "name": "python",
   "nbconvert_exporter": "python",
   "pygments_lexer": "ipython3",
   "version": "3.9.16"
  }
 },
 "nbformat": 4,
 "nbformat_minor": 5
}
